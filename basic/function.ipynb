{
  "nbformat": 4,
  "nbformat_minor": 0,
  "metadata": {
    "colab": {
      "provenance": [],
      "authorship_tag": "ABX9TyNztCAlhNWRJP+Xre1bgaTn",
      "include_colab_link": true
    },
    "kernelspec": {
      "name": "python3",
      "display_name": "Python 3"
    },
    "language_info": {
      "name": "python"
    }
  },
  "cells": [
    {
      "cell_type": "markdown",
      "metadata": {
        "id": "view-in-github",
        "colab_type": "text"
      },
      "source": [
        "<a href=\"https://colab.research.google.com/github/dmlee-learn/python/blob/main/basic/function.ipynb\" target=\"_parent\"><img src=\"https://colab.research.google.com/assets/colab-badge.svg\" alt=\"Open In Colab\"/></a>"
      ]
    },
    {
      "cell_type": "code",
      "execution_count": 1,
      "metadata": {
        "colab": {
          "base_uri": "https://localhost:8080/"
        },
        "id": "3WLI2xnP9_HY",
        "outputId": "9dd66259-958d-433e-f2f8-184ee0958d94"
      },
      "outputs": [
        {
          "output_type": "stream",
          "name": "stdout",
          "text": [
            "True hello 12\n"
          ]
        }
      ],
      "source": [
        "print(True, \"hello\", 12)"
      ]
    },
    {
      "cell_type": "code",
      "source": [
        "#def say_hello(name):\n",
        "#  print(\"hello\", name, \"how r u?\")\n",
        "\n",
        "def say_hello(name, age):\n",
        "  print(\"hello\", name, \"how r u?\")\n",
        "  print(\"you are\", age, \"years old\")\n",
        "\n",
        "def say_bye():\n",
        "  print('bye~')\n",
        "\n",
        "say_hello('dron', 12)"
      ],
      "metadata": {
        "colab": {
          "base_uri": "https://localhost:8080/"
        },
        "id": "AohVbaDB-b-W",
        "outputId": "788e8a23-69f8-4ff3-cc53-1c5d9924b71c"
      },
      "execution_count": 6,
      "outputs": [
        {
          "output_type": "stream",
          "name": "stdout",
          "text": [
            "hello dron how r u?\n",
            "you are 12 years old\n"
          ]
        }
      ]
    }
  ]
}