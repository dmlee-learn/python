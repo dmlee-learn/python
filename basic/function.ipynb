{
  "nbformat": 4,
  "nbformat_minor": 0,
  "metadata": {
    "colab": {
      "provenance": [],
      "authorship_tag": "ABX9TyMGa/ytFAYJsjbL/rPhgN3W",
      "include_colab_link": true
    },
    "kernelspec": {
      "name": "python3",
      "display_name": "Python 3"
    },
    "language_info": {
      "name": "python"
    }
  },
  "cells": [
    {
      "cell_type": "markdown",
      "metadata": {
        "id": "view-in-github",
        "colab_type": "text"
      },
      "source": [
        "<a href=\"https://colab.research.google.com/github/dmlee-learn/python/blob/main/basic/function.ipynb\" target=\"_parent\"><img src=\"https://colab.research.google.com/assets/colab-badge.svg\" alt=\"Open In Colab\"/></a>"
      ]
    },
    {
      "cell_type": "code",
      "execution_count": 1,
      "metadata": {
        "colab": {
          "base_uri": "https://localhost:8080/"
        },
        "id": "3WLI2xnP9_HY",
        "outputId": "9dd66259-958d-433e-f2f8-184ee0958d94"
      },
      "outputs": [
        {
          "output_type": "stream",
          "name": "stdout",
          "text": [
            "True hello 12\n"
          ]
        }
      ],
      "source": [
        "print(True, \"hello\", 12)"
      ]
    },
    {
      "cell_type": "code",
      "source": [
        "def say_hello(name=\"anonymous\"):\n",
        "  print(\"hello\", name, \"how r u?\")\n",
        "\n",
        "#def say_hello(name, age):\n",
        "#  print(\"hello\", name, \"how r u?\")\n",
        "#  print(\"you are\", age, \"years old\")\n",
        "\n",
        "def say_bye():\n",
        "  print('bye~')\n",
        "\n",
        "#say_hello('dron', 12)\n",
        "say_hello()"
      ],
      "metadata": {
        "colab": {
          "base_uri": "https://localhost:8080/"
        },
        "id": "AohVbaDB-b-W",
        "outputId": "453a4408-aee5-49c4-bfb5-c50953412aeb"
      },
      "execution_count": 1,
      "outputs": [
        {
          "output_type": "stream",
          "name": "stdout",
          "text": [
            "hello anonymous how r u?\n"
          ]
        }
      ]
    },
    {
      "cell_type": "code",
      "source": [
        "def plus(a, b):\n",
        "  print(a+b)\n",
        "def minus(a, b):\n",
        "  print(a-b)\n",
        "def multi(a, b):\n",
        "  print(a*b)\n",
        "def division(a, b):\n",
        "  print(a/b)\n",
        "\n",
        "\n",
        "plus(12, 3)\n",
        "minus(12, 3)\n",
        "multi(12, 3)\n",
        "division(12, 3)"
      ],
      "metadata": {
        "colab": {
          "base_uri": "https://localhost:8080/"
        },
        "id": "YfffCjG-l4ER",
        "outputId": "284ce3fa-285c-4119-a54e-7bce2b3aa11f"
      },
      "execution_count": 2,
      "outputs": [
        {
          "output_type": "stream",
          "name": "stdout",
          "text": [
            "15\n",
            "9\n",
            "36\n",
            "4.0\n"
          ]
        }
      ]
    }
  ]
}