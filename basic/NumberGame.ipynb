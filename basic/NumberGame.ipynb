{
  "cells": [
    {
      "attachments": {},
      "cell_type": "markdown",
      "metadata": {
        "colab_type": "text",
        "id": "view-in-github"
      },
      "source": [
        "<a href=\"https://colab.research.google.com/github/dmlee-learn/python/blob/main/basic/NumberGame.ipynb\" target=\"_parent\"><img src=\"https://colab.research.google.com/assets/colab-badge.svg\" alt=\"Open In Colab\"/></a>"
      ]
    },
    {
      "cell_type": "code",
      "execution_count": 4,
      "metadata": {
        "colab": {
          "base_uri": "https://localhost:8080/"
        },
        "id": "gFuPK7-o3KNd",
        "outputId": "6352e89e-3723-4cae-f329-e5177e6ba87d"
      },
      "outputs": [
        {
          "name": "stdout",
          "output_type": "stream",
          "text": [
            "Welcom to Number game\n",
            "input your choice number.20\n",
            "Lower!\n",
            "input your choice number.40\n",
            "Higer!\n",
            "input your choice number.30\n",
            "Lower!\n",
            "input your choice number.35\n",
            "Lower!\n",
            "input your choice number.38\n",
            "Lower!\n",
            "input your choice number.39\n",
            "You win!\n"
          ]
        }
      ],
      "source": [
        "from random import randint\n",
        "\n",
        "pc_value = randint(1, 50)\n",
        "use_value = 0\n",
        "run = True\n",
        "print(\"Welcom to Number game\")\n",
        "while run:\n",
        "  use_value = int(input(\"input your choice number.\"))\n",
        "  \n",
        "  result = \"\"\n",
        "  if pc_value > use_value: \n",
        "    result = \"Lower!\"\n",
        "  elif pc_value < use_value: \n",
        "    result = \"Higer!\"\n",
        "  else: \n",
        "    result = \"You win!\"\n",
        "    run = False\n",
        "\n",
        "  print(result)"
      ]
    }
  ],
  "metadata": {
    "colab": {
      "authorship_tag": "ABX9TyOEoWzd4KKnajirpScNnOgd",
      "include_colab_link": true,
      "provenance": []
    },
    "kernelspec": {
      "display_name": "Python 3",
      "language": "python",
      "name": "python3"
    },
    "language_info": {
      "name": "python",
      "version": "3.10.8"
    },
    "vscode": {
      "interpreter": {
        "hash": "369f2c481f4da34e4445cda3fffd2e751bd1c4d706f27375911949ba6bb62e1c"
      }
    }
  },
  "nbformat": 4,
  "nbformat_minor": 0
}
