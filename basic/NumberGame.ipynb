{
  "nbformat": 4,
  "nbformat_minor": 0,
  "metadata": {
    "colab": {
      "provenance": [],
      "authorship_tag": "ABX9TyNKXX0AHcelkfdDBQNYB+g2",
      "include_colab_link": true
    },
    "kernelspec": {
      "name": "python3",
      "display_name": "Python 3"
    },
    "language_info": {
      "name": "python"
    }
  },
  "cells": [
    {
      "cell_type": "markdown",
      "metadata": {
        "id": "view-in-github",
        "colab_type": "text"
      },
      "source": [
        "<a href=\"https://colab.research.google.com/github/dmlee-learn/python/blob/main/basic/NumberGame.ipynb\" target=\"_parent\"><img src=\"https://colab.research.google.com/assets/colab-badge.svg\" alt=\"Open In Colab\"/></a>"
      ]
    },
    {
      "cell_type": "code",
      "execution_count": 4,
      "metadata": {
        "colab": {
          "base_uri": "https://localhost:8080/"
        },
        "id": "gFuPK7-o3KNd",
        "outputId": "6352e89e-3723-4cae-f329-e5177e6ba87d"
      },
      "outputs": [
        {
          "output_type": "stream",
          "name": "stdout",
          "text": [
            "Welcom to Number game\n",
            "input your choice number.20\n",
            "Lower!\n",
            "input your choice number.40\n",
            "Higer!\n",
            "input your choice number.30\n",
            "Lower!\n",
            "input your choice number.35\n",
            "Lower!\n",
            "input your choice number.38\n",
            "Lower!\n",
            "input your choice number.39\n",
            "You win!\n"
          ]
        }
      ],
      "source": [
        "from random import randint\n",
        "\n",
        "pc_value = randint(1, 50)\n",
        "use_value = 0\n",
        "run = True\n",
        "print(\"Welcom to Number game\")\n",
        "while(run):\n",
        "  use_value = int(input(\"input your choice number.\"))\n",
        "  \n",
        "  result = \"\"\n",
        "  if pc_value > use_value: result = \"Lower!\"\n",
        "  elif pc_value < use_value: result = \"Higer!\"\n",
        "  else: \n",
        "    result = \"You win!\"\n",
        "    run = False\n",
        "\n",
        "  print(result)"
      ]
    }
  ]
}