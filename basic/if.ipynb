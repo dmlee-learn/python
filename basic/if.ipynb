{
  "nbformat": 4,
  "nbformat_minor": 0,
  "metadata": {
    "colab": {
      "provenance": [],
      "authorship_tag": "ABX9TyOeTGeAdX8KXk2X+RGWnfUj",
      "include_colab_link": true
    },
    "kernelspec": {
      "name": "python3",
      "display_name": "Python 3"
    },
    "language_info": {
      "name": "python"
    }
  },
  "cells": [
    {
      "cell_type": "markdown",
      "metadata": {
        "id": "view-in-github",
        "colab_type": "text"
      },
      "source": [
        "<a href=\"https://colab.research.google.com/github/dmlee-learn/python/blob/main/basic/if.ipynb\" target=\"_parent\"><img src=\"https://colab.research.google.com/assets/colab-badge.svg\" alt=\"Open In Colab\"/></a>"
      ]
    },
    {
      "cell_type": "code",
      "execution_count": 7,
      "metadata": {
        "colab": {
          "base_uri": "https://localhost:8080/"
        },
        "id": "rKSx7oM6hFOO",
        "outputId": "430daf0c-a4fb-4f45-b362-8ffc1fdc17ec"
      },
      "outputs": [
        {
          "output_type": "stream",
          "name": "stdout",
          "text": [
            "first is bic\n",
            "second is small\n"
          ]
        }
      ],
      "source": [
        "if (5 > 2): print(f'first is bic')\n",
        "elif(5 == 2):print(f'both are same')\n",
        "elif((5 == 2 and 2 == 5) or 2 == 5):print(f'both are same')\n",
        "else: print(f'first is small')\n",
        "\n",
        "if (5 < 2): print(f'second is bic')\n",
        "else: print(f'second is small')"
      ]
    }
  ]
}