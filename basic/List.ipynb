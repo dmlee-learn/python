{
  "nbformat": 4,
  "nbformat_minor": 0,
  "metadata": {
    "colab": {
      "provenance": [],
      "authorship_tag": "ABX9TyPGNdReRQwuxI6/GGLIHd0X",
      "include_colab_link": true
    },
    "kernelspec": {
      "name": "python3",
      "display_name": "Python 3"
    },
    "language_info": {
      "name": "python"
    }
  },
  "cells": [
    {
      "cell_type": "markdown",
      "metadata": {
        "id": "view-in-github",
        "colab_type": "text"
      },
      "source": [
        "<a href=\"https://colab.research.google.com/github/dmlee-learn/python/blob/main/basic/List.ipynb\" target=\"_parent\"><img src=\"https://colab.research.google.com/assets/colab-badge.svg\" alt=\"Open In Colab\"/></a>"
      ]
    },
    {
      "cell_type": "code",
      "execution_count": 2,
      "metadata": {
        "colab": {
          "base_uri": "https://localhost:8080/"
        },
        "id": "ArCXfluJRDew",
        "outputId": "6d9f6f66-d53e-48ba-a6e5-ffbc577b3402"
      },
      "outputs": [
        {
          "output_type": "stream",
          "name": "stdout",
          "text": [
            "['Mon', 'Tue', 'Wed', 'Thur', 'Fri']\n",
            "['Mon', 'Tue', 'Wed', 'Thur', 'Fri', 'Sat', 'Sun']\n",
            "Wed\n"
          ]
        }
      ],
      "source": [
        "day_of_week = ['Mon', 'Tue','Wed','Thur','Fri']\n",
        "print(day_of_week)\n",
        "day_of_week.append('Sat')\n",
        "day_of_week.append('Sun')\n",
        "print(day_of_week)\n",
        "print(day_of_week[2])"
      ]
    }
  ]
}