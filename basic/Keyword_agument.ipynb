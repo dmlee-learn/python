{
  "nbformat": 4,
  "nbformat_minor": 0,
  "metadata": {
    "colab": {
      "provenance": [],
      "authorship_tag": "ABX9TyNg5aPo5z9oAF+58FJEpUW8",
      "include_colab_link": true
    },
    "kernelspec": {
      "name": "python3",
      "display_name": "Python 3"
    },
    "language_info": {
      "name": "python"
    }
  },
  "cells": [
    {
      "cell_type": "markdown",
      "metadata": {
        "id": "view-in-github",
        "colab_type": "text"
      },
      "source": [
        "<a href=\"https://colab.research.google.com/github/dmlee-learn/python/blob/main/basic/Keyword_agument.ipynb\" target=\"_parent\"><img src=\"https://colab.research.google.com/assets/colab-badge.svg\" alt=\"Open In Colab\"/></a>"
      ]
    },
    {
      "cell_type": "code",
      "execution_count": 2,
      "metadata": {
        "colab": {
          "base_uri": "https://localhost:8080/"
        },
        "id": "JVgs_L3BO2BV",
        "outputId": "435106f9-c4ae-4f46-ba00-adbd9d924847"
      },
      "outputs": [
        {
          "output_type": "stream",
          "name": "stdout",
          "text": [
            "hello test your age 20\n",
            "hello test your age 20\n"
          ]
        }
      ],
      "source": [
        "def say_hello(name, age):\n",
        "  print(f\"hello {name} your age {age}\")\n",
        "\n",
        "say_hello('test', 20)\n",
        "say_hello(age=20, name='test')"
      ]
    }
  ]
}