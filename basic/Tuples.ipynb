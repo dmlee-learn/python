{
  "nbformat": 4,
  "nbformat_minor": 0,
  "metadata": {
    "colab": {
      "provenance": [],
      "authorship_tag": "ABX9TyMkSUIJ5P6YLfptqSltDoTu",
      "include_colab_link": true
    },
    "kernelspec": {
      "name": "python3",
      "display_name": "Python 3"
    },
    "language_info": {
      "name": "python"
    }
  },
  "cells": [
    {
      "cell_type": "markdown",
      "metadata": {
        "id": "view-in-github",
        "colab_type": "text"
      },
      "source": [
        "<a href=\"https://colab.research.google.com/github/dmlee-learn/python/blob/main/basic/Tuples.ipynb\" target=\"_parent\"><img src=\"https://colab.research.google.com/assets/colab-badge.svg\" alt=\"Open In Colab\"/></a>"
      ]
    },
    {
      "cell_type": "code",
      "execution_count": 1,
      "metadata": {
        "colab": {
          "base_uri": "https://localhost:8080/"
        },
        "id": "1DlwlIMyBQtL",
        "outputId": "812352e2-2f8b-4b44-c541-69f000d97446"
      },
      "outputs": [
        {
          "output_type": "stream",
          "name": "stdout",
          "text": [
            "('Mon', 'Tue', 'Wed', 'Thur', 'Fri')\n",
            "('Mon', 'Tue', 'Wed', 'Thur', 'Fri')\n",
            "Wed\n",
            "Fri\n"
          ]
        }
      ],
      "source": [
        "#like list but cat changed to the data\n",
        "day_of_week = ('Mon', 'Tue','Wed','Thur','Fri')\n",
        "print(day_of_week)\n",
        "#day_of_week.append('Sat')\n",
        "#day_of_week.append('Sun')\n",
        "print(day_of_week)\n",
        "print(day_of_week[2])\n",
        "print(day_of_week[-1])"
      ]
    }
  ]
}