{
  "nbformat": 4,
  "nbformat_minor": 0,
  "metadata": {
    "colab": {
      "provenance": [],
      "authorship_tag": "ABX9TyOBSPGcR+CXnAfgl9AsOWN7",
      "include_colab_link": true
    },
    "kernelspec": {
      "name": "python3",
      "display_name": "Python 3"
    },
    "language_info": {
      "name": "python"
    }
  },
  "cells": [
    {
      "cell_type": "markdown",
      "metadata": {
        "id": "view-in-github",
        "colab_type": "text"
      },
      "source": [
        "<a href=\"https://colab.research.google.com/github/dmlee-learn/python/blob/main/basic/Lib_requests.ipynb\" target=\"_parent\"><img src=\"https://colab.research.google.com/assets/colab-badge.svg\" alt=\"Open In Colab\"/></a>"
      ]
    },
    {
      "cell_type": "code",
      "execution_count": 1,
      "metadata": {
        "colab": {
          "base_uri": "https://localhost:8080/"
        },
        "id": "edJGyEpb51BJ",
        "outputId": "eaf0aca6-17e3-4391-d61b-0745f5449cc5"
      },
      "outputs": [
        {
          "output_type": "stream",
          "name": "stdout",
          "text": [
            "we have to fix it\n",
            "200\n",
            "text/html; charset=UTF-8\n",
            "UTF-8\n",
            "go to web\n",
            "200\n",
            "text/html; charset=ISO-8859-1\n",
            "ISO-8859-1\n",
            "we have to fix it\n",
            "200\n",
            "text/html; charset=\"utf-8\"\n",
            "utf-8\n"
          ]
        }
      ],
      "source": [
        "from requests import get\n",
        "from requests import post\n",
        "\n",
        "websites = (\n",
        "    'naver.com',\n",
        "    'http://google.com',\n",
        "    'facebook.com'\n",
        ")\n",
        "\n",
        "for website in websites:\n",
        "  if website.startswith('http://'): \n",
        "    print('go to web')\n",
        "  else:\n",
        "    print('we have to fix it')\n",
        "    website = f'http://{website}'\n",
        "\n",
        "  data = get(f'{website}')\n",
        "  print(data.status_code)\n",
        "  #print(data.text)\n",
        "  print(data.headers['content-type'])\n",
        "  #print(data.json())\n",
        "  print(data.encoding)"
      ]
    }
  ]
}