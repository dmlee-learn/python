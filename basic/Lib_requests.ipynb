{
  "nbformat": 4,
  "nbformat_minor": 0,
  "metadata": {
    "colab": {
      "provenance": [],
      "authorship_tag": "ABX9TyO64xP8XgTwp8k4ImEYeiL9",
      "include_colab_link": true
    },
    "kernelspec": {
      "name": "python3",
      "display_name": "Python 3"
    },
    "language_info": {
      "name": "python"
    }
  },
  "cells": [
    {
      "cell_type": "markdown",
      "metadata": {
        "id": "view-in-github",
        "colab_type": "text"
      },
      "source": [
        "<a href=\"https://colab.research.google.com/github/dmlee-learn/python/blob/main/basic/Lib_requests.ipynb\" target=\"_parent\"><img src=\"https://colab.research.google.com/assets/colab-badge.svg\" alt=\"Open In Colab\"/></a>"
      ]
    },
    {
      "cell_type": "code",
      "execution_count": 8,
      "metadata": {
        "colab": {
          "base_uri": "https://localhost:8080/"
        },
        "id": "edJGyEpb51BJ",
        "outputId": "b3adcdae-8fef-44c5-aa4a-25e3bcaeb90d"
      },
      "outputs": [
        {
          "output_type": "stream",
          "name": "stdout",
          "text": [
            "we have to fix it\n",
            "go to web\n",
            "200\n",
            "text/html; charset=ISO-8859-1\n",
            "ISO-8859-1\n",
            "we have to fix it\n"
          ]
        }
      ],
      "source": [
        "from requests import get\n",
        "from requests import post\n",
        "\n",
        "websites = (\n",
        "    'naver.com',\n",
        "    'http://google.com',\n",
        "    'facebook.com'\n",
        ")\n",
        "\n",
        "for website in websites:\n",
        "  if website.startswith('http://'): \n",
        "    print('go to web')\n",
        "    data = get(f'{website}')\n",
        "    print(data.status_code)\n",
        "    #print(data.text)\n",
        "    print(data.headers['content-type'])\n",
        "    #print(data.json())\n",
        "    print(data.encoding)\n",
        "  else :print('we have to fix it')"
      ]
    }
  ]
}