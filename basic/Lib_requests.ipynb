{
  "nbformat": 4,
  "nbformat_minor": 0,
  "metadata": {
    "colab": {
      "provenance": [],
      "authorship_tag": "ABX9TyMmxRQUZfNB043Sg7wseWb0",
      "include_colab_link": true
    },
    "kernelspec": {
      "name": "python3",
      "display_name": "Python 3"
    },
    "language_info": {
      "name": "python"
    }
  },
  "cells": [
    {
      "cell_type": "markdown",
      "metadata": {
        "id": "view-in-github",
        "colab_type": "text"
      },
      "source": [
        "<a href=\"https://colab.research.google.com/github/dmlee-learn/python/blob/main/basic/Lib_requests.ipynb\" target=\"_parent\"><img src=\"https://colab.research.google.com/assets/colab-badge.svg\" alt=\"Open In Colab\"/></a>"
      ]
    },
    {
      "cell_type": "code",
      "execution_count": 4,
      "metadata": {
        "colab": {
          "base_uri": "https://localhost:8080/"
        },
        "id": "edJGyEpb51BJ",
        "outputId": "feabbbba-491b-487d-84ce-147c60127043"
      },
      "outputs": [
        {
          "output_type": "stream",
          "name": "stdout",
          "text": [
            "{'http://naver.com': 'Ok', 'http://google.com': 'Ok', 'http://facebook.com': 'Ok'}\n"
          ]
        }
      ],
      "source": [
        "from requests import get\n",
        "from requests import post\n",
        "\n",
        "HTTP_OK = 200\n",
        "\n",
        "websites = (\n",
        "    'naver.com',\n",
        "    'http://google.com',\n",
        "    'facebook.com'\n",
        ")\n",
        "results = {}\n",
        "for website in websites:\n",
        "  #if website.startswith('http://'): \n",
        "  #  print('go to web')\n",
        "  #else:\n",
        "  #  print('we have to fix it')\n",
        "  #  website = f'http://{website}'\n",
        "  if False == website.startswith('http://'): \n",
        "    website = f'http://{website}'\n",
        "\n",
        "  data = get(f'{website}')\n",
        "  if HTTP_OK == data.status_code:\n",
        "    results[website] = 'Ok'\n",
        "  else :\n",
        "    results[website] = 'Fail'\n",
        "\n",
        "print(results)\n",
        "  #print(data.status_code)\n",
        "  #print(data.text)\n",
        "  #print(data.headers['content-type'])\n",
        "  #print(data.json())\n",
        "  #print(data.encoding)"
      ]
    }
  ]
}