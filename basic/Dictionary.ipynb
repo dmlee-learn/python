{
  "nbformat": 4,
  "nbformat_minor": 0,
  "metadata": {
    "colab": {
      "provenance": [],
      "authorship_tag": "ABX9TyMXkTm6Cdsm/yZEO8erMsfP",
      "include_colab_link": true
    },
    "kernelspec": {
      "name": "python3",
      "display_name": "Python 3"
    },
    "language_info": {
      "name": "python"
    }
  },
  "cells": [
    {
      "cell_type": "markdown",
      "metadata": {
        "id": "view-in-github",
        "colab_type": "text"
      },
      "source": [
        "<a href=\"https://colab.research.google.com/github/dmlee-learn/python/blob/main/basic/Dictionary.ipynb\" target=\"_parent\"><img src=\"https://colab.research.google.com/assets/colab-badge.svg\" alt=\"Open In Colab\"/></a>"
      ]
    },
    {
      "cell_type": "code",
      "execution_count": 1,
      "metadata": {
        "colab": {
          "base_uri": "https://localhost:8080/"
        },
        "id": "b6w-TF1SEHhO",
        "outputId": "5d926e78-ff0a-4f37-9f10-10d231ed38df"
      },
      "outputs": [
        {
          "output_type": "stream",
          "name": "stdout",
          "text": [
            "{'name': 'nico', 'age': 16, 'alive': True, 'fav_food': ['🍕', '🍔']}\n",
            "nico\n",
            "['🍕', '🍔']\n"
          ]
        }
      ],
      "source": [
        "#like Map\n",
        "player = {\n",
        "    'name':'nico',\n",
        "    'age':16,\n",
        "    'alive':True,\n",
        "    'fav_food':['🍕', '🍔']\n",
        "}\n",
        "\n",
        "print(player)\n",
        "print(player.get('name'))\n",
        "print(player['fav_food'])"
      ]
    }
  ]
}