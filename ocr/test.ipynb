{
 "cells": [
  {
   "cell_type": "code",
   "execution_count": 1,
   "metadata": {},
   "outputs": [],
   "source": [
    "import capture\n",
    "import cv2\n",
    "import time\n",
    "import win32gui\n",
    "\n",
    "ESC_KEY=27\n",
    "FRAME_RATE = 120\n",
    "SLEEP_TIME = 1/FRAME_RATE\n",
    "IMAGE_NAME = \"frame1\""
   ]
  },
  {
   "cell_type": "code",
   "execution_count": 2,
   "metadata": {},
   "outputs": [],
   "source": [
    "capture = capture.Capture(\"GitHub Desktop\", FRAME_RATE)"
   ]
  },
  {
   "cell_type": "code",
   "execution_count": 3,
   "metadata": {},
   "outputs": [
    {
     "ename": "",
     "evalue": "",
     "output_type": "error",
     "traceback": [
      "\u001b[1;31m현재 셀 또는 이전 셀에서 코드를 실행하는 동안 Kernel이 충돌했습니다. 셀의 코드를 검토하여 오류의 가능한 원인을 식별하세요. 자세한 내용을 보려면 <a href='https://aka.ms/vscodeJupyterKernelCrash'> 여기 </a> 를 클릭하세요. 자세한 내용은 Jupyter <a href='command:jupyter.viewOutput'>로그</a>를 참조하세요."
     ]
    }
   ],
   "source": [
    "while True:\n",
    "    start=time.time()\n",
    "    frame = capture.screenshot()\n",
    "    cv2.imshow(IMAGE_NAME, frame)\n",
    "    delta = time.time() - start\n",
    "    if delta < SLEEP_TIME:\n",
    "        time.sleep(SLEEP_TIME - delta)\n",
    "    key = cv2.waitKey(1) & 0xFF\n",
    "    if key == ESC_KEY:\n",
    "        break"
   ]
  }
 ],
 "metadata": {
  "kernelspec": {
   "display_name": "Python 3",
   "language": "python",
   "name": "python3"
  },
  "language_info": {
   "codemirror_mode": {
    "name": "ipython",
    "version": 3
   },
   "file_extension": ".py",
   "mimetype": "text/x-python",
   "name": "python",
   "nbconvert_exporter": "python",
   "pygments_lexer": "ipython3",
   "version": "3.11.4"
  },
  "orig_nbformat": 4
 },
 "nbformat": 4,
 "nbformat_minor": 2
}
