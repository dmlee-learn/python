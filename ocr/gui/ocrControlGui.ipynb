{
 "cells": [
  {
   "cell_type": "code",
   "execution_count": 1,
   "metadata": {},
   "outputs": [],
   "source": [
    "# 모듈 호출\n",
    "from tkinter import *\n",
    "from tkinter import ttk\n",
    "from PIL import ImageTk, Image # Pillow\n",
    "import cv2 as cv # OpenCV\n",
    "import os\n",
    "import threading"
   ]
  },
  {
   "cell_type": "code",
   "execution_count": 2,
   "metadata": {},
   "outputs": [
    {
     "data": {
      "text/plain": [
       "''"
      ]
     },
     "execution_count": 2,
     "metadata": {},
     "output_type": "execute_result"
    }
   ],
   "source": [
    "tkObject = Tk()\n",
    "tkObject.title(\"GUI\") #제목 설정\n",
    "tkObject.geometry(\"920x640+50+50\")#화면 크기\n",
    "tkObject.resizable(False, False) #x축 ,y 축 리사이즈 방지"
   ]
  },
  {
   "cell_type": "code",
   "execution_count": 7,
   "metadata": {},
   "outputs": [
    {
     "ename": "TclError",
     "evalue": "NULL main window",
     "output_type": "error",
     "traceback": [
      "\u001b[1;31m---------------------------------------------------------------------------\u001b[0m",
      "\u001b[1;31mTclError\u001b[0m                                  Traceback (most recent call last)",
      "Cell \u001b[1;32mIn[7], line 1\u001b[0m\n\u001b[1;32m----> 1\u001b[0m mainFrame \u001b[39m=\u001b[39m ttk\u001b[39m.\u001b[39;49mFrame(tkObject, padding\u001b[39m=\u001b[39;49m\u001b[39m10\u001b[39;49m)\n\u001b[0;32m      2\u001b[0m mainFrame\u001b[39m.\u001b[39mgrid(row\u001b[39m=\u001b[39m\u001b[39m0\u001b[39m, column\u001b[39m=\u001b[39m\u001b[39m0\u001b[39m) \u001b[39m# Frame : windows에서 새창이라는 느낌\u001b[39;00m\n\u001b[0;32m      3\u001b[0m ttk\u001b[39m.\u001b[39mLabel(mainFrame, text\u001b[39m=\u001b[39m\u001b[39m\"\u001b[39m\u001b[39mHello World!\u001b[39m\u001b[39m\"\u001b[39m)\u001b[39m.\u001b[39mgrid(row\u001b[39m=\u001b[39m\u001b[39m0\u001b[39m, column\u001b[39m=\u001b[39m\u001b[39m0\u001b[39m) \u001b[39m#라벨 주가 및 위치 설정\u001b[39;00m\n",
      "File \u001b[1;32mc:\\Python310\\lib\\tkinter\\ttk.py:735\u001b[0m, in \u001b[0;36mFrame.__init__\u001b[1;34m(self, master, **kw)\u001b[0m\n\u001b[0;32m    724\u001b[0m \u001b[39mdef\u001b[39;00m \u001b[39m__init__\u001b[39m(\u001b[39mself\u001b[39m, master\u001b[39m=\u001b[39m\u001b[39mNone\u001b[39;00m, \u001b[39m*\u001b[39m\u001b[39m*\u001b[39mkw):\n\u001b[0;32m    725\u001b[0m     \u001b[39m\"\"\"Construct a Ttk Frame with parent master.\u001b[39;00m\n\u001b[0;32m    726\u001b[0m \n\u001b[0;32m    727\u001b[0m \u001b[39m    STANDARD OPTIONS\u001b[39;00m\n\u001b[1;32m   (...)\u001b[0m\n\u001b[0;32m    733\u001b[0m \u001b[39m        borderwidth, relief, padding, width, height\u001b[39;00m\n\u001b[0;32m    734\u001b[0m \u001b[39m    \"\"\"\u001b[39;00m\n\u001b[1;32m--> 735\u001b[0m     Widget\u001b[39m.\u001b[39;49m\u001b[39m__init__\u001b[39;49m(\u001b[39mself\u001b[39;49m, master, \u001b[39m\"\u001b[39;49m\u001b[39mttk::frame\u001b[39;49m\u001b[39m\"\u001b[39;49m, kw)\n",
      "File \u001b[1;32mc:\\Python310\\lib\\tkinter\\ttk.py:552\u001b[0m, in \u001b[0;36mWidget.__init__\u001b[1;34m(self, master, widgetname, kw)\u001b[0m\n\u001b[0;32m    549\u001b[0m \u001b[39mif\u001b[39;00m \u001b[39mnot\u001b[39;00m \u001b[39mgetattr\u001b[39m(master, \u001b[39m'\u001b[39m\u001b[39m_tile_loaded\u001b[39m\u001b[39m'\u001b[39m, \u001b[39mFalse\u001b[39;00m):\n\u001b[0;32m    550\u001b[0m     \u001b[39m# Load tile now, if needed\u001b[39;00m\n\u001b[0;32m    551\u001b[0m     _load_tile(master)\n\u001b[1;32m--> 552\u001b[0m tkinter\u001b[39m.\u001b[39;49mWidget\u001b[39m.\u001b[39;49m\u001b[39m__init__\u001b[39;49m(\u001b[39mself\u001b[39;49m, master, widgetname, kw\u001b[39m=\u001b[39;49mkw)\n",
      "File \u001b[1;32mc:\\Python310\\lib\\tkinter\\__init__.py:2601\u001b[0m, in \u001b[0;36mBaseWidget.__init__\u001b[1;34m(self, master, widgetName, cnf, kw, extra)\u001b[0m\n\u001b[0;32m   2599\u001b[0m \u001b[39mfor\u001b[39;00m k, v \u001b[39min\u001b[39;00m classes:\n\u001b[0;32m   2600\u001b[0m     \u001b[39mdel\u001b[39;00m cnf[k]\n\u001b[1;32m-> 2601\u001b[0m \u001b[39mself\u001b[39;49m\u001b[39m.\u001b[39;49mtk\u001b[39m.\u001b[39;49mcall(\n\u001b[0;32m   2602\u001b[0m     (widgetName, \u001b[39mself\u001b[39;49m\u001b[39m.\u001b[39;49m_w) \u001b[39m+\u001b[39;49m extra \u001b[39m+\u001b[39;49m \u001b[39mself\u001b[39;49m\u001b[39m.\u001b[39;49m_options(cnf))\n\u001b[0;32m   2603\u001b[0m \u001b[39mfor\u001b[39;00m k, v \u001b[39min\u001b[39;00m classes:\n\u001b[0;32m   2604\u001b[0m     k\u001b[39m.\u001b[39mconfigure(\u001b[39mself\u001b[39m, v)\n",
      "\u001b[1;31mTclError\u001b[0m: NULL main window"
     ]
    }
   ],
   "source": [
    "mainFrame = ttk.Frame(tkObject, padding=10)\n",
    "mainFrame.grid(row=0, column=0) # Frame : windows에서 새창이라는 느낌\n",
    "ttk.Label(mainFrame, text=\"Hello World!\").grid(row=0, column=0) #라벨 주가 및 위치 설정\n",
    "\n",
    "running = True\n",
    "def exiting():\n",
    "    print(\"exiting\")   \n",
    "    running = False\n",
    "    tkObject.destroy()\n",
    "ttk.Button(mainFrame, text=\"Quit\", command=exiting).grid(row=0, column=1) #종료 버튼 생성 및 위치 설정 "
   ]
  },
  {
   "cell_type": "code",
   "execution_count": 6,
   "metadata": {},
   "outputs": [
    {
     "ename": "RuntimeError",
     "evalue": "Too early to create image: no default root window",
     "output_type": "error",
     "traceback": [
      "\u001b[1;31m---------------------------------------------------------------------------\u001b[0m",
      "\u001b[1;31mRuntimeError\u001b[0m                              Traceback (most recent call last)",
      "Cell \u001b[1;32mIn[6], line 8\u001b[0m\n\u001b[0;32m      5\u001b[0m cap\u001b[39m.\u001b[39msetCaptureBox(x\u001b[39m=\u001b[39m\u001b[39m0\u001b[39m, y\u001b[39m=\u001b[39m\u001b[39m0\u001b[39m, width\u001b[39m=\u001b[39m\u001b[39m100\u001b[39m, height\u001b[39m=\u001b[39m\u001b[39m100\u001b[39m)\n\u001b[0;32m      6\u001b[0m \u001b[39m#cap.setCaptureBox(x=0, y=0, width=100, height=100)\u001b[39;00m\n\u001b[1;32m----> 8\u001b[0m photo2 \u001b[39m=\u001b[39m ImageTk\u001b[39m.\u001b[39;49mPhotoImage(file\u001b[39m=\u001b[39;49m\u001b[39m\"\u001b[39;49m\u001b[39minput.jpg\u001b[39;49m\u001b[39m\"\u001b[39;49m)\n\u001b[0;32m      9\u001b[0m labelImage \u001b[39m=\u001b[39m ttk\u001b[39m.\u001b[39mLabel(mainFrame, image\u001b[39m=\u001b[39mphoto2)\u001b[39m#라벨 주가 및 위치 설정\u001b[39;00m\n\u001b[0;32m     10\u001b[0m labelImage\u001b[39m.\u001b[39mgrid(row\u001b[39m=\u001b[39m\u001b[39m3\u001b[39m, column\u001b[39m=\u001b[39m\u001b[39m0\u001b[39m) \n",
      "File \u001b[1;32mc:\\Python310\\lib\\site-packages\\PIL\\ImageTk.py:127\u001b[0m, in \u001b[0;36mPhotoImage.__init__\u001b[1;34m(self, image, size, **kw)\u001b[0m\n\u001b[0;32m    125\u001b[0m \u001b[39mself\u001b[39m\u001b[39m.\u001b[39m__mode \u001b[39m=\u001b[39m mode\n\u001b[0;32m    126\u001b[0m \u001b[39mself\u001b[39m\u001b[39m.\u001b[39m__size \u001b[39m=\u001b[39m size\n\u001b[1;32m--> 127\u001b[0m \u001b[39mself\u001b[39m\u001b[39m.\u001b[39m__photo \u001b[39m=\u001b[39m tkinter\u001b[39m.\u001b[39mPhotoImage(\u001b[39m*\u001b[39m\u001b[39m*\u001b[39mkw)\n\u001b[0;32m    128\u001b[0m \u001b[39mself\u001b[39m\u001b[39m.\u001b[39mtk \u001b[39m=\u001b[39m \u001b[39mself\u001b[39m\u001b[39m.\u001b[39m__photo\u001b[39m.\u001b[39mtk\n\u001b[0;32m    129\u001b[0m \u001b[39mif\u001b[39;00m image:\n",
      "File \u001b[1;32mc:\\Python310\\lib\\tkinter\\__init__.py:4103\u001b[0m, in \u001b[0;36mPhotoImage.__init__\u001b[1;34m(self, name, cnf, master, **kw)\u001b[0m\n\u001b[0;32m   4098\u001b[0m \u001b[39mdef\u001b[39;00m \u001b[39m__init__\u001b[39m(\u001b[39mself\u001b[39m, name\u001b[39m=\u001b[39m\u001b[39mNone\u001b[39;00m, cnf\u001b[39m=\u001b[39m{}, master\u001b[39m=\u001b[39m\u001b[39mNone\u001b[39;00m, \u001b[39m*\u001b[39m\u001b[39m*\u001b[39mkw):\n\u001b[0;32m   4099\u001b[0m     \u001b[39m\"\"\"Create an image with NAME.\u001b[39;00m\n\u001b[0;32m   4100\u001b[0m \n\u001b[0;32m   4101\u001b[0m \u001b[39m    Valid resource names: data, format, file, gamma, height, palette,\u001b[39;00m\n\u001b[0;32m   4102\u001b[0m \u001b[39m    width.\"\"\"\u001b[39;00m\n\u001b[1;32m-> 4103\u001b[0m     Image\u001b[39m.\u001b[39m\u001b[39m__init__\u001b[39m(\u001b[39mself\u001b[39m, \u001b[39m'\u001b[39m\u001b[39mphoto\u001b[39m\u001b[39m'\u001b[39m, name, cnf, master, \u001b[39m*\u001b[39m\u001b[39m*\u001b[39mkw)\n",
      "File \u001b[1;32mc:\\Python310\\lib\\tkinter\\__init__.py:4036\u001b[0m, in \u001b[0;36mImage.__init__\u001b[1;34m(self, imgtype, name, cnf, master, **kw)\u001b[0m\n\u001b[0;32m   4034\u001b[0m \u001b[39mself\u001b[39m\u001b[39m.\u001b[39mname \u001b[39m=\u001b[39m \u001b[39mNone\u001b[39;00m\n\u001b[0;32m   4035\u001b[0m \u001b[39mif\u001b[39;00m master \u001b[39mis\u001b[39;00m \u001b[39mNone\u001b[39;00m:\n\u001b[1;32m-> 4036\u001b[0m     master \u001b[39m=\u001b[39m _get_default_root(\u001b[39m'\u001b[39;49m\u001b[39mcreate image\u001b[39;49m\u001b[39m'\u001b[39;49m)\n\u001b[0;32m   4037\u001b[0m \u001b[39mself\u001b[39m\u001b[39m.\u001b[39mtk \u001b[39m=\u001b[39m \u001b[39mgetattr\u001b[39m(master, \u001b[39m'\u001b[39m\u001b[39mtk\u001b[39m\u001b[39m'\u001b[39m, master)\n\u001b[0;32m   4038\u001b[0m \u001b[39mif\u001b[39;00m \u001b[39mnot\u001b[39;00m name:\n",
      "File \u001b[1;32mc:\\Python310\\lib\\tkinter\\__init__.py:297\u001b[0m, in \u001b[0;36m_get_default_root\u001b[1;34m(what)\u001b[0m\n\u001b[0;32m    295\u001b[0m \u001b[39mif\u001b[39;00m _default_root \u001b[39mis\u001b[39;00m \u001b[39mNone\u001b[39;00m:\n\u001b[0;32m    296\u001b[0m     \u001b[39mif\u001b[39;00m what:\n\u001b[1;32m--> 297\u001b[0m         \u001b[39mraise\u001b[39;00m \u001b[39mRuntimeError\u001b[39;00m(\u001b[39mf\u001b[39m\u001b[39m\"\u001b[39m\u001b[39mToo early to \u001b[39m\u001b[39m{\u001b[39;00mwhat\u001b[39m}\u001b[39;00m\u001b[39m: no default root window\u001b[39m\u001b[39m\"\u001b[39m)\n\u001b[0;32m    298\u001b[0m     root \u001b[39m=\u001b[39m Tk()\n\u001b[0;32m    299\u001b[0m     \u001b[39massert\u001b[39;00m _default_root \u001b[39mis\u001b[39;00m root\n",
      "\u001b[1;31mRuntimeError\u001b[0m: Too early to create image: no default root window"
     ]
    }
   ],
   "source": [
    "from CaptureHelp import CaptureHelp\n",
    "\n",
    "\n",
    "cap = CaptureHelp()\n",
    "cap.setCaptureBox(x=0, y=0, width=100, height=100)\n",
    "#cap.setCaptureBox(x=0, y=0, width=100, height=100)\n",
    "\n",
    "photo2 = ImageTk.PhotoImage(file=\"input.jpg\")\n",
    "labelImage = ttk.Label(mainFrame, image=photo2)#라벨 주가 및 위치 설정\n",
    "labelImage.grid(row=3, column=0) \n",
    "def captureRun():\n",
    "    print(\"captureRun start\")   \n",
    "    while running:\n",
    "        capimag = cap.capture()\n",
    "        img = Image.fromarray(capimag)\n",
    "        imgtk = ImageTk.PhotoImage(image=img)\n",
    "        labelImage['image'] = imgtk\n",
    "\n",
    "def pushImageChange():\n",
    "    photo2 = ImageTk.PhotoImage(file=\"c:/Users/siwon/OneDrive/document/GitHub/python/gui/test/suji.png\")\n",
    "    labelImage['image'] = photo2\n",
    "    photo2.image = photo2\n",
    "\n",
    "thred = threading.Thread(target=captureRun)\n",
    "thred.start()\n",
    "\n",
    "ttk.Button(mainFrame, text=\"imageChange\", command=pushImageChange).grid(row=2, column=0) #종료 버튼 생성 및 위치 설정 "
   ]
  },
  {
   "cell_type": "code",
   "execution_count": 5,
   "metadata": {},
   "outputs": [
    {
     "name": "stdout",
     "output_type": "stream",
     "text": [
      "exiting\n"
     ]
    }
   ],
   "source": [
    "\n",
    "tkObject.mainloop() #GUI 루프 실행"
   ]
  }
 ],
 "metadata": {
  "kernelspec": {
   "display_name": "Python 3",
   "language": "python",
   "name": "python3"
  },
  "language_info": {
   "codemirror_mode": {
    "name": "ipython",
    "version": 3
   },
   "file_extension": ".py",
   "mimetype": "text/x-python",
   "name": "python",
   "nbconvert_exporter": "python",
   "pygments_lexer": "ipython3",
   "version": "3.10.8"
  },
  "orig_nbformat": 4
 },
 "nbformat": 4,
 "nbformat_minor": 2
}
