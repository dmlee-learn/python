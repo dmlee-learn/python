{
  "nbformat": 4,
  "nbformat_minor": 0,
  "metadata": {
    "colab": {
      "provenance": [],
      "authorship_tag": "ABX9TyNiCX0Xxqd9QiwRgYeglYXM",
      "include_colab_link": true
    },
    "kernelspec": {
      "name": "python3",
      "display_name": "Python 3"
    },
    "language_info": {
      "name": "python"
    }
  },
  "cells": [
    {
      "cell_type": "markdown",
      "metadata": {
        "id": "view-in-github",
        "colab_type": "text"
      },
      "source": [
        "<a href=\"https://colab.research.google.com/github/dmlee-learn/python/blob/main/Basic/Scrapper.ipynb\" target=\"_parent\"><img src=\"https://colab.research.google.com/assets/colab-badge.svg\" alt=\"Open In Colab\"/></a>"
      ]
    },
    {
      "cell_type": "code",
      "execution_count": 34,
      "metadata": {
        "colab": {
          "base_uri": "https://localhost:8080/"
        },
        "id": "8wE3k21IlsZr",
        "outputId": "5d7f2565-0eb2-4914-9806-024cab7bdb9b"
      },
      "outputs": [
        {
          "output_type": "stream",
          "name": "stdout",
          "text": [
            "<Response [200]>\n",
            "<span class=\"title\">Senior Open Source Developer &amp; DevOps (Python, Django, React, AWS/OpenStack)</span>\n",
            "<span class=\"title\">Senior Python Engineer: Long-term job - 100% remote</span>\n",
            "<span class=\"title\">Python Developer</span>\n",
            "<span class=\"title\">(Senior) Python Full Stack Software Developer</span>\n",
            "<span class=\"title\">Senior Full-stack Engineer with Python</span>\n",
            "<span class=\"title\">Senior Python Developer - Full Remote </span>\n",
            "<span class=\"title\">Senior Software Engineer, Python</span>\n",
            "<span class=\"title\">Python Platform Engineer</span>\n",
            "{'title': 'Senior Open Source Developer & DevOps (Python, Django, React, AWS/OpenStack)', 'company': 'OpenCraft', 'region': 'Full-Time', 'position': 'Anywhere in the World', 'url': 'https://weworkremotely.com/remote-jobs/opencraft-senior-open-source-developer-devops-python-django-react-aws-openstack'}\n",
            "{'title': 'Senior Python Engineer: Long-term job - 100% remote', 'company': 'Proxify AB', 'region': 'Full-Time', 'position': 'Anywhere in the World', 'url': 'https://weworkremotely.com/remote-jobs/proxify-ab-senior-python-engineer-long-term-job-100-remote'}\n",
            "{'title': 'Python Developer', 'company': 'lemon.io', 'region': 'Full-Time', 'position': 'Latin America Only/Europe Only/Canada Only', 'url': 'https://weworkremotely.com/remote-jobs/lemon-io-python-developer-3'}\n",
            "{'title': '(Senior) Python Full Stack Software Developer', 'company': 'Optimile', 'region': 'Full-Time', 'position': 'Europe Only', 'url': 'https://weworkremotely.com/remote-jobs/optimile-senior-python-full-stack-software-developer'}\n",
            "{'title': 'Senior Full-stack Engineer with Python', 'company': 'NannyML', 'region': 'Full-Time', 'position': 'Anywhere in the World', 'url': 'https://weworkremotely.com/remote-jobs/nannyml-senior-full-stack-engineer-with-python'}\n",
            "{'title': 'Senior Python Developer - Full Remote ', 'company': 'Ebury', 'region': 'Full-Time', 'position': 'Latin America Only/Europe Only', 'url': 'https://weworkremotely.com/remote-jobs/ebury-senior-python-developer-full-remote-1'}\n",
            "{'title': 'Senior Software Engineer, Python', 'company': 'AssemblyAI (YC 17)', 'region': 'Full-Time', 'position': 'Anywhere in the World', 'url': 'https://weworkremotely.com/remote-jobs/assemblyai-yc-17-senior-software-engineer-python'}\n",
            "{'title': 'Python Platform Engineer', 'company': 'Doximity', 'region': 'Full-Time', 'position': 'Americas Only', 'url': 'https://weworkremotely.com/remote-jobs/doximity-python-platform-engineer'}\n"
          ]
        }
      ],
      "source": [
        "from requests import get\n",
        "from bs4 import BeautifulSoup\n",
        "\n",
        "#https://weworkremotely.com/remote-jobs/opencraft-senior-open-source-developer-devops-python-django-react-aws-openstack\n",
        "base_url = 'https://weworkremotely.com'\n",
        "search_url = f'{base_url}/remote-jobs/search?term='\n",
        "search_term = 'python'\n",
        "HTTP_OK = 200\n",
        "job_list = list()\n",
        "\n",
        "def makeUrl(word):\n",
        "  return f'{search_url}{word}'\n",
        "\n",
        "response = get(makeUrl('python'))\n",
        "\n",
        "#print(response.text)\n",
        "print(response)\n",
        "if(HTTP_OK != response.status_code):\n",
        "  print(\"We can't open to Website\")\n",
        "else: \n",
        "  soup = BeautifulSoup(response.text, 'html.parser')\n",
        "  #jobs = soup.find_all('section', class_='jobs')\n",
        "  #for job_selection in jobs:\n",
        "  for job_selection in soup.find_all('section', class_='jobs'):\n",
        "    job_posts = job_selection.find_all('li')\n",
        "    job_posts.pop(-1)\n",
        "    for post in job_posts:\n",
        "      #anchors = post.find_all('a')\n",
        "      #anchor = anchors[1]\n",
        "      anchor = post.find_all('a')[1]\n",
        "      company, region, position = anchor.find_all('span', class_='company')\n",
        "      title = anchor.find_all('span', class_='title')[0]\n",
        "      #print(title)\n",
        "      add_url = anchor.attrs['href']\n",
        "      jab_data = { \n",
        "          'title':title.string\n",
        "          , 'company':company.string\n",
        "          , 'region':region.string\n",
        "          , 'position':position.string\n",
        "          , 'url':f'{base_url}{add_url}'\n",
        "      }\n",
        "      job_list.append(jab_data)\n",
        "      #print(jab_data)\n",
        "\n",
        "for job in job_list:\n",
        "  print(job)"
      ]
    }
  ]
}