{
 "cells": [
  {
   "cell_type": "code",
   "execution_count": 11,
   "metadata": {},
   "outputs": [],
   "source": [
    "import pyautogui\n",
    "import cv2\n",
    "import math\n",
    "import numpy as np # numpy 패키지 로드하여 np로 사용\n",
    "import torch\n",
    "from PIL import ImageGrab"
   ]
  },
  {
   "cell_type": "code",
   "execution_count": 12,
   "metadata": {},
   "outputs": [],
   "source": [
    "#setup\n",
    "webcamYN = False\n",
    "pyautoguiYn = True\n",
    "\n",
    "textYN = True\n"
   ]
  },
  {
   "cell_type": "code",
   "execution_count": 14,
   "metadata": {},
   "outputs": [
    {
     "name": "stderr",
     "output_type": "stream",
     "text": [
      "Using cache found in C:\\Users\\siwon/.cache\\torch\\hub\\ultralytics_yolov5_master\n",
      "YOLOv5  2024-9-3 Python-3.11.9 torch-2.0.1+cpu CPU\n",
      "\n",
      "Fusing layers... \n",
      "YOLOv5s summary: 213 layers, 7225885 parameters, 0 gradients\n",
      "Adding AutoShape... \n"
     ]
    }
   ],
   "source": [
    "# 모델 로드 (pre-trained 모델 사용) 사람 차량등 사물 인식\n",
    "model = torch.hub.load('ultralytics/yolov5', 'yolov5s')  # 'yolov5s', 'yolov5m', 'yolov5l', 'yolov5x' 가능"
   ]
  },
  {
   "cell_type": "code",
   "execution_count": 15,
   "metadata": {},
   "outputs": [],
   "source": [
    "# 캡쳐 시작 좌표, 가로, 세로 길이 4k 모니터에서 좌측 유튜브 영상 기준\n",
    "x, y, width, height = 10, 195, 1890, 1000\n",
    "\n",
    "#윈도우 화면 캡쳐\n",
    "def monitorCapture(x, y, width, height):\n",
    "    #im = pyautogui.screenshot(region=(x, y, width, height))\n",
    "    im = ImageGrab.grab(bbox=(x, y, x + width, y + height))\n",
    "    return cv2.cvtColor(np.array(im), cv2.COLOR_BGR2RGB)\n",
    "\n"
   ]
  },
  {
   "cell_type": "code",
   "execution_count": 17,
   "metadata": {},
   "outputs": [],
   "source": [
    "#웹캠 설정\n",
    "global webcamItem\n",
    "def setupToWebcam():\n",
    "    webcamItem = cv2.VideoCapture(0)\n",
    "\n",
    "    # 웹캠이 열리지 않을 경우\n",
    "    if not webcamItem.isOpened():\n",
    "        print(\"Error: Could not open webcam.\")\n",
    "        exit()\n",
    "\n",
    "def webcam():\n",
    "    ret, frame = webcamItem.read()\n",
    "\n",
    "    if not ret:\n",
    "        print(\"Error: Could not read frame.\")\n",
    "\n",
    "    # 프레임 크기를 YOLO 모델에 맞게 조정\n",
    "    return cv2.cvtColor(frame, cv2.COLOR_BGR2RGB)  # 모델은 RGB 형식의 이미지를 사용합니다.\n",
    "\n",
    "def webcalRelease():\n",
    "  webcamItem.release()\n",
    "if webcamYN:\n",
    "    setupToWebcam()"
   ]
  },
  {
   "cell_type": "code",
   "execution_count": 18,
   "metadata": {},
   "outputs": [],
   "source": [
    "while True:\n",
    "  #캐니 엣지 값\n",
    "  if cv2.waitKey(1) & 0xFF == ord('q'):\n",
    "    break\n",
    "  \n",
    "  img = monitorCapture(x, y, width, height)\n",
    "  #img = webcam()\n",
    "   \n",
    "  # YOLO 모델을 사용해 객체 탐지\n",
    "  results = model(img)\n",
    "\n",
    "  #결과 이미지를 얻고, 원본 BGR 형식으로 다시 변환\n",
    "  img = results.render()[0]  # render()는 탐지된 객체에 박스를 그린 이미지를 반환합니다.\n",
    "\n",
    "  # 화면에 결과 표시\n",
    "  cv2.imshow('YOLOv5 Real-time Detection', img)\n"
   ]
  },
  {
   "cell_type": "code",
   "execution_count": 19,
   "metadata": {},
   "outputs": [],
   "source": [
    "# 리소스 해제\n",
    "if webcamYN:\n",
    "  webcalRelease\n",
    "cv2.destroyAllWindows()"
   ]
  }
 ],
 "metadata": {
  "kernelspec": {
   "display_name": "Python 3",
   "language": "python",
   "name": "python3"
  },
  "language_info": {
   "codemirror_mode": {
    "name": "ipython",
    "version": 3
   },
   "file_extension": ".py",
   "mimetype": "text/x-python",
   "name": "python",
   "nbconvert_exporter": "python",
   "pygments_lexer": "ipython3",
   "version": "3.11.9"
  }
 },
 "nbformat": 4,
 "nbformat_minor": 2
}
