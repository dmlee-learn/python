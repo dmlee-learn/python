{
  "nbformat": 4,
  "nbformat_minor": 0,
  "metadata": {
    "colab": {
      "provenance": [],
      "authorship_tag": "ABX9TyOUhBnrhdOo6+N7bCnQz7R4",
      "include_colab_link": true
    },
    "kernelspec": {
      "name": "python3",
      "display_name": "Python 3"
    },
    "language_info": {
      "name": "python"
    }
  },
  "cells": [
    {
      "cell_type": "markdown",
      "metadata": {
        "id": "view-in-github",
        "colab_type": "text"
      },
      "source": [
        "<a href=\"https://colab.research.google.com/github/dmlee-learn/python/blob/main/make/find_keyword.ipynb\" target=\"_parent\"><img src=\"https://colab.research.google.com/assets/colab-badge.svg\" alt=\"Open In Colab\"/></a>"
      ]
    },
    {
      "cell_type": "code",
      "execution_count": null,
      "metadata": {
        "colab": {
          "base_uri": "https://localhost:8080/"
        },
        "id": "hraV0LhhVlll",
        "outputId": "43bf2c64-48fb-4166-dd2c-3e8711fb76f6"
      },
      "outputs": [
        {
          "output_type": "stream",
          "name": "stdout",
          "text": [
            "찾아보자~\n"
          ]
        }
      ],
      "source": [
        "import pandas as pf\n",
        "import time\n",
        "import os\n",
        "import shutil\n",
        "\n",
        "print(\"찾아보자~\")\n",
        "time.strftime('%Y-%m-%d',time.localtime(time.time()))\n",
        "a=time.strftime('%Y-%m-%d',time.localtime(time.time()))\n",
        "BASE_FOLDER=\"E:/py/\" #기본 폴더 경로\n",
        "LOG_FOLDER=BASE_FOLDER + \"log/\" #로그 폴더 경로\n",
        "RESULT_FOLDER=BASE_FOLDER + \"rs/\" #결과 파일 경로\n",
        "FINISHED_FOLDER=BASE_FOLDER + \"finished/\" #분석 끝난 파일 경로"
      ]
    },
    {
      "cell_type": "code",
      "source": [
        "def makeFileName(file_path):\n",
        "  name = \"\"\n",
        "  if file_path.count(\".\") == 1:\n",
        "    name = file.split('.')[0]\n",
        "  else :\n",
        "    for k in range(len(file_path)-1,0,-1):\n",
        "      if file_path[k] == '.':\n",
        "        name.append(file[:k])\n",
        "        break\n",
        "  return name\n",
        "\n",
        "def searchInFile(file_path, rs_path, keyword_list):\n",
        "  with open(LOG_FOLDER + file_path,\"r\") as file:\n",
        "    content =file.read().strip()\n",
        "    data=[line.split(\"|\")for line in content.split(\"\\n\")]\n",
        "    df=pd.dataframe(data, columns=[\"col1\",\"col2\",\"col3\",\"col4\",\"col5\",\"col6\",\"col7\",\"col8\"])\n",
        "    for keyword in keyword_list :\n",
        "      search_condition=(df[\"col1\"]==keyword)\n",
        "      result=df.loc[search_condition]\n",
        "      print(\"찾았다:\",\"￦n\",result[\"col7\"])\n",
        "      final=(df[df[\"col7\"].apply(lambda x: x in result[\"col7\"].tolist())])\n",
        "      final.reset_index(drop=true, inplace=true)\n",
        "      df2=pd.dataframe(final[\"col1\"])\n",
        "\n",
        "      fileName = makeFileName(file_path)\n",
        "      df2.to_csv(RESULT_FOLDER + fileName + \"_\"+ keyword + \"_\"+ a + \".scv\")\n",
        "\n",
        "def movingFile(file_path) :\n",
        "  shutil.move(LOG_FOLDER + file_path, FINISHED_FOLDER + file_path)"
      ],
      "metadata": {
        "id": "A5gwQ9UpaNI2"
      },
      "execution_count": null,
      "outputs": []
    },
    {
      "cell_type": "code",
      "source": [
        "keyword_str = str(input(\"검색어(','로 검색어 분리):\"))\n",
        "keyword_list = keyword_str.split(',')\n",
        "file_list = os.listdir(LOG_FOLDER)\n",
        "print(\"file_list: {}\".format(file_list))\n",
        "for file in file_list:\n",
        "    searchInFile(file, RESULT_FOLDER, keyword_list)\n",
        "    movingFile(file)\n",
        "print(\"완료~~\")"
      ],
      "metadata": {
        "colab": {
          "base_uri": "https://localhost:8080/"
        },
        "id": "IkyLKqgzw6E9",
        "outputId": "10ac2c4c-fa57-4fa6-f0cf-31dee72bc59c"
      },
      "execution_count": null,
      "outputs": [
        {
          "name": "stdout",
          "output_type": "stream",
          "text": [
            "검색어(','로 검색어 분리):달, 밥, 에러\n"
          ]
        }
      ]
    }
  ]
}