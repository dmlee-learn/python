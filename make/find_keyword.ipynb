{
  "cells": [
    {
      "attachments": {},
      "cell_type": "markdown",
      "metadata": {
        "colab_type": "text",
        "id": "view-in-github"
      },
      "source": [
        "<a href=\"https://colab.research.google.com/github/dmlee-learn/python/blob/main/make/find_keyword.ipynb\" target=\"_parent\"><img src=\"https://colab.research.google.com/assets/colab-badge.svg\" alt=\"Open In Colab\"/></a>"
      ]
    },
    {
      "cell_type": "code",
      "execution_count": 1,
      "metadata": {
        "colab": {
          "base_uri": "https://localhost:8080/"
        },
        "id": "hraV0LhhVlll",
        "outputId": "43bf2c64-48fb-4166-dd2c-3e8711fb76f6"
      },
      "outputs": [
        {
          "name": "stdout",
          "output_type": "stream",
          "text": [
            "E:/py/log/\n",
            "LOG_FOLDER : E:/py/log/\n",
            "RESULT_FOLDER : E:/py/rs/\n",
            "FINISHED_FOLDER : E:/py/finished/\n",
            "준비 진행 중~\n"
          ]
        }
      ],
      "source": [
        "import pandas as pd\n",
        "import time\n",
        "import os\n",
        "import shutil\n",
        "\n",
        "\n",
        "time.strftime('%Y-%m-%d',time.localtime(time.time()))\n",
        "a=time.strftime('%Y-%m-%d',time.localtime(time.time()))\n",
        "BASE_FOLDER=\"E:/py/\" #기본 폴더 경로\n",
        "LOG_FOLDER=BASE_FOLDER + \"log/\" #로그 폴더 경로\n",
        "RESULT_FOLDER=BASE_FOLDER + \"rs/\" #결과 파일 경로\n",
        "FINISHED_FOLDER=BASE_FOLDER + \"finished/\" #분석 끝난 파일 경로\n",
        "print(LOG_FOLDER)\n",
        "print(\"LOG_FOLDER : \" + LOG_FOLDER)\n",
        "print(\"RESULT_FOLDER : \" + RESULT_FOLDER)\n",
        "print(\"FINISHED_FOLDER : \" + FINISHED_FOLDER)\n",
        "print(\"준비 진행 중~\")"
      ]
    },
    {
      "cell_type": "code",
      "execution_count": null,
      "metadata": {
        "id": "A5gwQ9UpaNI2"
      },
      "outputs": [],
      "source": [
        "def makeFileName(file_path):\n",
        "  name = \"\"\n",
        "  if file_path.count(\".\") == 1:\n",
        "    name = file_path.split('.')[0]\n",
        "  else :\n",
        "    for k in range(len(file_path)-1,0,-1):\n",
        "      if file_path[k] == '.':\n",
        "        name.append(file_path[:k])\n",
        "        break\n",
        "  return name\n",
        "\n",
        "def searchInFile(file_path, rs_path, keyword_list):\n",
        "  with open(LOG_FOLDER + file_path,\"r\") as file:\n",
        "    content =file.read().strip()\n",
        "    data=[line.split(\"|\")for line in content.split(\"\\n\")]\n",
        "    df=pd.dataframe(data, columns=[\"col1\",\"col2\",\"col3\",\"col4\",\"col5\",\"col6\",\"col7\",\"col8\"])\n",
        "    for keyword in keyword_list :\n",
        "      search_condition=(df[\"col1\"]==keyword)\n",
        "      result=df.loc[search_condition]\n",
        "      print(\"찾았다:\",\"￦n\",result[\"col7\"])\n",
        "      final=(df[df[\"col7\"].apply(lambda x: x in result[\"col7\"].tolist())])\n",
        "      final.reset_index(drop=true, inplace=true)\n",
        "      df2=pd.dataframe(final[\"col1\"])\n",
        "\n",
        "      fileName = makeFileName(file_path)\n",
        "      df2.to_csv(RESULT_FOLDER + fileName + \"_\"+ keyword + \"_\"+ a + \".scv\")\n",
        "\n",
        "def movingFile(file_path) :\n",
        "  shutil.move(LOG_FOLDER + file_path, FINISHED_FOLDER + file_path)"
      ]
    },
    {
      "cell_type": "code",
      "execution_count": null,
      "metadata": {
        "colab": {
          "base_uri": "https://localhost:8080/"
        },
        "id": "IkyLKqgzw6E9",
        "outputId": "10ac2c4c-fa57-4fa6-f0cf-31dee72bc59c"
      },
      "outputs": [
        {
          "name": "stdout",
          "output_type": "stream",
          "text": [
            "검색어(','로 검색어 분리):달, 밥, 에러\n"
          ]
        }
      ],
      "source": [
        "keyword_str = str(input(\"검색어(','로 검색어 분리):\"))\n",
        "keyword_list = keyword_str.split(',')\n",
        "file_list = os.listdir(LOG_FOLDER)\n",
        "print(\"file_list: {}\".format(file_list))\n",
        "for file in file_list:\n",
        "    searchInFile(file, RESULT_FOLDER, keyword_list)\n",
        "    movingFile(file)\n",
        "print(\"완료~~\")"
      ]
    }
  ],
  "metadata": {
    "colab": {
      "authorship_tag": "ABX9TyOUhBnrhdOo6+N7bCnQz7R4",
      "include_colab_link": true,
      "provenance": []
    },
    "kernelspec": {
      "display_name": "Python 3",
      "name": "python3"
    },
    "language_info": {
      "codemirror_mode": {
        "name": "ipython",
        "version": 3
      },
      "file_extension": ".py",
      "mimetype": "text/x-python",
      "name": "python",
      "nbconvert_exporter": "python",
      "pygments_lexer": "ipython3",
      "version": "3.10.8"
    }
  },
  "nbformat": 4,
  "nbformat_minor": 0
}
