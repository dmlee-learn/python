{
  "nbformat": 4,
  "nbformat_minor": 0,
  "metadata": {
    "colab": {
      "provenance": [],
      "authorship_tag": "ABX9TyOeAs8VUEKcUQ6qeAA1Q4QU",
      "include_colab_link": true
    },
    "kernelspec": {
      "name": "python3",
      "display_name": "Python 3"
    },
    "language_info": {
      "name": "python"
    }
  },
  "cells": [
    {
      "cell_type": "markdown",
      "metadata": {
        "id": "view-in-github",
        "colab_type": "text"
      },
      "source": [
        "<a href=\"https://colab.research.google.com/github/dmlee-learn/python/blob/main/socket/tcp_ip_socket_server.ipynb\" target=\"_parent\"><img src=\"https://colab.research.google.com/assets/colab-badge.svg\" alt=\"Open In Colab\"/></a>"
      ]
    },
    {
      "cell_type": "code",
      "execution_count": null,
      "metadata": {
        "id": "ZgiZIW2v-SJ_"
      },
      "outputs": [],
      "source": [
        "import socket, time\n",
        "\n",
        "print('server setup')\n",
        "IP = '' #서버 ip\n",
        "PORT = 8080      #서버 port\n",
        "SIZE = 1024\n",
        "\n",
        " #파라미터는 소켓 종류 AF_INET IPv4 AF_INET6 IPv6, 소켓 \n",
        "\n",
        "#자동 close를 위해서 with 사용\n",
        "with socket.socket(socket.AF_INET, socket.SOCK_STREAM) as server_socket\n",
        "  server_socket.setsockopt(socket.SOL_SOCKET, socket.SO_REUSEADDR, 1) #소켓옵션, 아이피 포트 재사용 옵션, 소켓 사용중 계속해서 사용 옵션 \n",
        "  server_socket.bind((IP, PORT)) # 아이피 포트 바인딩 ('', server_port)\n",
        "  server_socket.listen(1) #클라이언트 접속 대기 및 인원 설정 없으면 임의, 1은 1 접속\n",
        "  print('server listening host : ', server_host, \", port : \", server_port)\n",
        "\n",
        "    while True:\n",
        "      client_socket, addr = server_socket.accept() #접속자 소켓과 아이피\n",
        "      print('connected client addr :', addr)\n",
        "\n",
        "      msg = client_socket.recv(SIZE) #클라이언트에서 받을 메세지 사이즈\n",
        "      print('[{}] message : {}'.format(addr, msg)) # 클라이언트가 보낸 메시지 출력\n",
        "\n",
        "      client_socket.sendall(\"welcome1\".encode()) #클라이언트에게 메시지\n",
        "      client_socket.close() # 클라이언트 소켓 종\n",
        "\n",
        "\n",
        "\n"
      ]
    }
  ]
}