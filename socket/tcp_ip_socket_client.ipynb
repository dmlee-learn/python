{
  "nbformat": 4,
  "nbformat_minor": 0,
  "metadata": {
    "colab": {
      "provenance": [],
      "authorship_tag": "ABX9TyNrOsRzFQLlt362K0C53lb4",
      "include_colab_link": true
    },
    "kernelspec": {
      "name": "python3",
      "display_name": "Python 3"
    },
    "language_info": {
      "name": "python"
    }
  },
  "cells": [
    {
      "cell_type": "markdown",
      "metadata": {
        "id": "view-in-github",
        "colab_type": "text"
      },
      "source": [
        "<a href=\"https://colab.research.google.com/github/dmlee-learn/python/blob/main/socket/tcp_ip_socket_client.ipynb\" target=\"_parent\"><img src=\"https://colab.research.google.com/assets/colab-badge.svg\" alt=\"Open In Colab\"/></a>"
      ]
    },
    {
      "cell_type": "code",
      "execution_count": 6,
      "metadata": {
        "colab": {
          "base_uri": "https://localhost:8080/"
        },
        "id": "j8jVwACYG8VF",
        "outputId": "2a100a12-8710-4f07-e511-c5dcafa47bde"
      },
      "outputs": [
        {
          "output_type": "stream",
          "name": "stdout",
          "text": [
            "recived msg from serve : b'HTTP/1.1 400 Bad Request\\r\\nConnection: close\\r\\n\\r\\n'\n"
          ]
        }
      ],
      "source": [
        "import socket\n",
        "\n",
        "IP = '' #서버 ip\n",
        "PORT = 8080      #서버 port\n",
        "SERVER_ADDR = (IP, PORT)\n",
        "\n",
        "SIZE = 1024\n",
        "\n",
        "with socket.socket(socket.AF_INET, socket.SOCK_STREAM) as client_socket:\n",
        "  client_socket.connect(SERVER_ADDR) # 서버 접속\n",
        "  client_socket.send('hi'.encode())  #메세지 전송\n",
        "  msg = client_socket.recv(SIZE) \n",
        "  print(\"recived msg from serve : {}\".format(msg))"
      ]
    }
  ]
}